{
 "cells": [
  {
   "cell_type": "code",
   "execution_count": 1,
   "metadata": {},
   "outputs": [
    {
     "name": "stdout",
     "output_type": "stream",
     "text": [
      "WARNING:tensorflow:From c:\\Users\\ferdy\\development\\anaconda\\Lib\\site-packages\\keras\\src\\losses.py:2976: The name tf.losses.sparse_softmax_cross_entropy is deprecated. Please use tf.compat.v1.losses.sparse_softmax_cross_entropy instead.\n",
      "\n"
     ]
    }
   ],
   "source": [
    "import tensorflow as tf\n",
    "import numpy as np\n",
    "import pandas as pd\n",
    "import matplotlib.pyplot as plt\n",
    "import matplotlib.gridspec as gridspec\n",
    "from tensorflow.keras.models import Sequential\n",
    "from tensorflow.keras.layers import Dense, Conv2D, Flatten, Dropout, MaxPooling2D, BatchNormalization, Activation, Reshape, Conv2DTranspose\n",
    "from tensorflow.keras.preprocessing.image import ImageDataGenerator\n",
    "from sklearn.model_selection import train_test_split\n",
    "from sklearn.preprocessing import LabelEncoder"
   ]
  },
  {
   "cell_type": "code",
   "execution_count": 2,
   "metadata": {},
   "outputs": [],
   "source": [
    "input_shape = (227, 227, 3)\n",
    "batch_size = 32"
   ]
  },
  {
   "cell_type": "code",
   "execution_count": 3,
   "metadata": {},
   "outputs": [],
   "source": [
    "csv_food = pd.read_csv('ingredient_recipe.csv')\n",
    "\n",
    "csv_food['Image_Name'] = csv_food['Image_Name'].apply(lambda x: 'dataset_train/food_images/' + x + '.jpg')\n",
    "\n",
    "unique_labels = csv_food['Ingredients'].unique()\n",
    "\n",
    "images_food_path = csv_food['Image_Name']\n",
    "\n",
    "labels_food = csv_food['Ingredients']\n",
    "\n",
    "le = LabelEncoder()\n",
    "le.fit(unique_labels)\n",
    "labels_food = le.transform(labels_food)\n",
    "num_classes = len(unique_labels)"
   ]
  },
  {
   "cell_type": "code",
   "execution_count": 4,
   "metadata": {},
   "outputs": [],
   "source": [
    "train_image_food, val_image_food, train_label_food, val_label_food = train_test_split(images_food_path, labels_food, test_size=0.2, random_state=42)"
   ]
  },
  {
   "cell_type": "code",
   "execution_count": 5,
   "metadata": {},
   "outputs": [],
   "source": [
    "train_datagen = ImageDataGenerator(rescale=1./255)\n",
    "val_datagen = ImageDataGenerator(rescale=1./255)"
   ]
  },
  {
   "cell_type": "code",
   "execution_count": 6,
   "metadata": {},
   "outputs": [],
   "source": [
    "train_df = pd.DataFrame({'Images': train_image_food, 'Labels': train_label_food})\n",
    "\n",
    "val_df = pd.DataFrame({'Images': val_image_food, 'Labels': val_label_food})"
   ]
  },
  {
   "cell_type": "code",
   "execution_count": 7,
   "metadata": {},
   "outputs": [
    {
     "name": "stdout",
     "output_type": "stream",
     "text": [
      "Found 10775 validated image filenames.\n"
     ]
    },
    {
     "name": "stderr",
     "output_type": "stream",
     "text": [
      "c:\\Users\\ferdy\\development\\anaconda\\Lib\\site-packages\\keras\\src\\preprocessing\\image.py:1137: UserWarning: Found 25 invalid image filename(s) in x_col=\"Images\". These filename(s) will be ignored.\n",
      "  warnings.warn(\n"
     ]
    },
    {
     "name": "stdout",
     "output_type": "stream",
     "text": [
      "Found 2696 validated image filenames.\n"
     ]
    },
    {
     "name": "stderr",
     "output_type": "stream",
     "text": [
      "c:\\Users\\ferdy\\development\\anaconda\\Lib\\site-packages\\keras\\src\\preprocessing\\image.py:1137: UserWarning: Found 5 invalid image filename(s) in x_col=\"Images\". These filename(s) will be ignored.\n",
      "  warnings.warn(\n"
     ]
    }
   ],
   "source": [
    "train_generator = train_datagen.flow_from_dataframe(\n",
    "    dataframe=train_df,\n",
    "    x_col='Images',\n",
    "    y_col='Labels',\n",
    "    target_size=(227, 227),\n",
    "    batch_size=batch_size,\n",
    "    class_mode='raw'\n",
    ")\n",
    "\n",
    "val_generator = val_datagen.flow_from_dataframe(\n",
    "    dataframe=val_df,\n",
    "    x_col='Images',\n",
    "    y_col='Labels',\n",
    "    target_size=(227, 227),\n",
    "    batch_size=batch_size,\n",
    "    class_mode='raw'\n",
    ")"
   ]
  },
  {
   "cell_type": "code",
   "execution_count": 8,
   "metadata": {},
   "outputs": [
    {
     "name": "stdout",
     "output_type": "stream",
     "text": [
      "WARNING:tensorflow:From c:\\Users\\ferdy\\development\\anaconda\\Lib\\site-packages\\keras\\src\\backend.py:873: The name tf.get_default_graph is deprecated. Please use tf.compat.v1.get_default_graph instead.\n",
      "\n",
      "WARNING:tensorflow:From c:\\Users\\ferdy\\development\\anaconda\\Lib\\site-packages\\keras\\src\\layers\\normalization\\batch_normalization.py:979: The name tf.nn.fused_batch_norm is deprecated. Please use tf.compat.v1.nn.fused_batch_norm instead.\n",
      "\n"
     ]
    }
   ],
   "source": [
    "model = Sequential()\n",
    "\n",
    "model.add(Conv2D(filters=96, kernel_size=(11,11), strides=(4,4), padding='valid', input_shape=input_shape))\n",
    "model.add(BatchNormalization())\n",
    "model.add(Activation('relu'))\n",
    "model.add(MaxPooling2D(pool_size=(3,3), strides=(2,2), padding='valid'))\n",
    "model.add(Conv2D(filters=256, kernel_size=(5,5), strides=(1,1), padding='same'))\n",
    "model.add(BatchNormalization())\n",
    "model.add(Activation('relu'))\n",
    "model.add(MaxPooling2D(pool_size=(3,3), strides=(2,2), padding='valid'))\n",
    "model.add(Conv2D(filters=384, kernel_size=(3,3), strides=(1,1), padding='same'))\n",
    "model.add(BatchNormalization())\n",
    "model.add(Activation('relu'))\n",
    "model.add(Conv2D(filters=384, kernel_size=(1,1), strides=(1,1), padding='same'))\n",
    "model.add(BatchNormalization())\n",
    "model.add(Activation('relu'))\n",
    "model.add(Conv2D(filters=256, kernel_size=(1,1), strides=(1,1), padding='same'))\n",
    "model.add(BatchNormalization())\n",
    "model.add(Activation('relu'))\n",
    "model.add(MaxPooling2D(pool_size=(3,3), strides=(2,2), padding='valid'))\n",
    "model.add(Flatten())\n",
    "model.add(Dense(4096))\n",
    "model.add(BatchNormalization())\n",
    "model.add(Activation('relu'))\n",
    "model.add(Dense(4096))\n",
    "model.add(BatchNormalization())\n",
    "model.add(Activation('relu'))\n",
    "model.add(Dense(512))\n",
    "model.add(BatchNormalization())\n",
    "model.add(Activation('relu'))\n",
    "model.add(Dense(num_classes, activation='softmax'))\n"
   ]
  },
  {
   "cell_type": "code",
   "execution_count": 9,
   "metadata": {},
   "outputs": [
    {
     "name": "stdout",
     "output_type": "stream",
     "text": [
      "WARNING:tensorflow:From c:\\Users\\ferdy\\development\\anaconda\\Lib\\site-packages\\keras\\src\\optimizers\\__init__.py:309: The name tf.train.Optimizer is deprecated. Please use tf.compat.v1.train.Optimizer instead.\n",
      "\n"
     ]
    }
   ],
   "source": [
    "model.compile(optimizer='adam', loss='sparse_categorical_crossentropy', metrics=['accuracy'])"
   ]
  },
  {
   "cell_type": "code",
   "execution_count": 10,
   "metadata": {},
   "outputs": [
    {
     "name": "stdout",
     "output_type": "stream",
     "text": [
      "Model: \"sequential\"\n",
      "_________________________________________________________________\n",
      " Layer (type)                Output Shape              Param #   \n",
      "=================================================================\n",
      " conv2d (Conv2D)             (None, 55, 55, 96)        34944     \n",
      "                                                                 \n",
      " batch_normalization (Batch  (None, 55, 55, 96)        384       \n",
      " Normalization)                                                  \n",
      "                                                                 \n",
      " activation (Activation)     (None, 55, 55, 96)        0         \n",
      "                                                                 \n",
      " max_pooling2d (MaxPooling2  (None, 27, 27, 96)        0         \n",
      " D)                                                              \n",
      "                                                                 \n",
      " conv2d_1 (Conv2D)           (None, 27, 27, 256)       614656    \n",
      "                                                                 \n",
      " batch_normalization_1 (Bat  (None, 27, 27, 256)       1024      \n",
      " chNormalization)                                                \n",
      "                                                                 \n",
      " activation_1 (Activation)   (None, 27, 27, 256)       0         \n",
      "                                                                 \n",
      " max_pooling2d_1 (MaxPoolin  (None, 13, 13, 256)       0         \n",
      " g2D)                                                            \n",
      "                                                                 \n",
      " conv2d_2 (Conv2D)           (None, 13, 13, 384)       885120    \n",
      "                                                                 \n",
      " batch_normalization_2 (Bat  (None, 13, 13, 384)       1536      \n",
      " chNormalization)                                                \n",
      "                                                                 \n",
      " activation_2 (Activation)   (None, 13, 13, 384)       0         \n",
      "                                                                 \n",
      " conv2d_3 (Conv2D)           (None, 13, 13, 384)       147840    \n",
      "                                                                 \n",
      " batch_normalization_3 (Bat  (None, 13, 13, 384)       1536      \n",
      " chNormalization)                                                \n",
      "                                                                 \n",
      " activation_3 (Activation)   (None, 13, 13, 384)       0         \n",
      "                                                                 \n",
      " conv2d_4 (Conv2D)           (None, 13, 13, 256)       98560     \n",
      "                                                                 \n",
      " batch_normalization_4 (Bat  (None, 13, 13, 256)       1024      \n",
      " chNormalization)                                                \n",
      "                                                                 \n",
      " activation_4 (Activation)   (None, 13, 13, 256)       0         \n",
      "                                                                 \n",
      " max_pooling2d_2 (MaxPoolin  (None, 6, 6, 256)         0         \n",
      " g2D)                                                            \n",
      "                                                                 \n",
      " flatten (Flatten)           (None, 9216)              0         \n",
      "                                                                 \n",
      " dense (Dense)               (None, 4096)              37752832  \n",
      "                                                                 \n",
      " batch_normalization_5 (Bat  (None, 4096)              16384     \n",
      " chNormalization)                                                \n",
      "                                                                 \n",
      " activation_5 (Activation)   (None, 4096)              0         \n",
      "                                                                 \n",
      " dense_1 (Dense)             (None, 4096)              16781312  \n",
      "                                                                 \n",
      " batch_normalization_6 (Bat  (None, 4096)              16384     \n",
      " chNormalization)                                                \n",
      "                                                                 \n",
      " activation_6 (Activation)   (None, 4096)              0         \n",
      "                                                                 \n",
      " dense_2 (Dense)             (None, 512)               2097664   \n",
      "                                                                 \n",
      " batch_normalization_7 (Bat  (None, 512)               2048      \n",
      " chNormalization)                                                \n",
      "                                                                 \n",
      " activation_7 (Activation)   (None, 512)               0         \n",
      "                                                                 \n",
      " dense_3 (Dense)             (None, 13473)             6911649   \n",
      "                                                                 \n",
      "=================================================================\n",
      "Total params: 65364897 (249.35 MB)\n",
      "Trainable params: 65344737 (249.27 MB)\n",
      "Non-trainable params: 20160 (78.75 KB)\n",
      "_________________________________________________________________\n"
     ]
    }
   ],
   "source": [
    "model.summary()"
   ]
  },
  {
   "cell_type": "code",
   "execution_count": 11,
   "metadata": {},
   "outputs": [
    {
     "name": "stdout",
     "output_type": "stream",
     "text": [
      "Epoch 1/50\n",
      "WARNING:tensorflow:From c:\\Users\\ferdy\\development\\anaconda\\Lib\\site-packages\\keras\\src\\utils\\tf_utils.py:492: The name tf.ragged.RaggedTensorValue is deprecated. Please use tf.compat.v1.ragged.RaggedTensorValue instead.\n",
      "\n",
      "WARNING:tensorflow:From c:\\Users\\ferdy\\development\\anaconda\\Lib\\site-packages\\keras\\src\\engine\\base_layer_utils.py:384: The name tf.executing_eagerly_outside_functions is deprecated. Please use tf.compat.v1.executing_eagerly_outside_functions instead.\n",
      "\n",
      "337/337 [==============================] - 371s 1s/step - loss: 9.8397 - accuracy: 4.6404e-04 - val_loss: 10.6273 - val_accuracy: 7.4184e-04\n",
      "Epoch 2/50\n",
      "337/337 [==============================] - 259s 770ms/step - loss: 9.3829 - accuracy: 5.5684e-04 - val_loss: 10.1081 - val_accuracy: 7.4184e-04\n",
      "Epoch 3/50\n",
      "337/337 [==============================] - 210s 623ms/step - loss: 9.0303 - accuracy: 7.4246e-04 - val_loss: 11.7571 - val_accuracy: 3.7092e-04\n",
      "Epoch 4/50\n",
      "337/337 [==============================] - 207s 613ms/step - loss: 8.4722 - accuracy: 7.4246e-04 - val_loss: 13.8838 - val_accuracy: 0.0000e+00\n",
      "Epoch 5/50\n",
      "337/337 [==============================] - 229s 681ms/step - loss: 7.9204 - accuracy: 0.0016 - val_loss: 15.3666 - val_accuracy: 7.4184e-04\n",
      "Epoch 6/50\n",
      "337/337 [==============================] - 248s 737ms/step - loss: 7.4449 - accuracy: 0.0019 - val_loss: 17.0326 - val_accuracy: 0.0000e+00\n",
      "Epoch 7/50\n",
      "337/337 [==============================] - 260s 771ms/step - loss: 7.0231 - accuracy: 0.0035 - val_loss: 16.4773 - val_accuracy: 0.0000e+00\n",
      "Epoch 8/50\n",
      "337/337 [==============================] - 248s 736ms/step - loss: 6.6482 - accuracy: 0.0072 - val_loss: 17.1071 - val_accuracy: 0.0000e+00\n",
      "Epoch 9/50\n",
      "337/337 [==============================] - 265s 787ms/step - loss: 6.3187 - accuracy: 0.0137 - val_loss: 17.0700 - val_accuracy: 0.0000e+00\n",
      "Epoch 10/50\n",
      "337/337 [==============================] - 245s 727ms/step - loss: 6.0207 - accuracy: 0.0174 - val_loss: 17.4589 - val_accuracy: 0.0000e+00\n",
      "Epoch 11/50\n",
      "337/337 [==============================] - 208s 616ms/step - loss: 5.6924 - accuracy: 0.0266 - val_loss: 18.8513 - val_accuracy: 0.0000e+00\n",
      "Epoch 12/50\n",
      "337/337 [==============================] - 198s 588ms/step - loss: 5.4281 - accuracy: 0.0362 - val_loss: 18.8341 - val_accuracy: 0.0000e+00\n",
      "Epoch 13/50\n",
      "337/337 [==============================] - 226s 669ms/step - loss: 5.2135 - accuracy: 0.0420 - val_loss: 18.9713 - val_accuracy: 0.0000e+00\n",
      "Epoch 14/50\n",
      "337/337 [==============================] - 199s 589ms/step - loss: 4.9470 - accuracy: 0.0587 - val_loss: 18.5689 - val_accuracy: 0.0015\n",
      "Epoch 15/50\n",
      "337/337 [==============================] - 256s 760ms/step - loss: 4.6837 - accuracy: 0.0742 - val_loss: 18.9615 - val_accuracy: 7.4184e-04\n",
      "Epoch 16/50\n",
      "337/337 [==============================] - 259s 767ms/step - loss: 4.3600 - accuracy: 0.0996 - val_loss: 20.9754 - val_accuracy: 0.0000e+00\n",
      "Epoch 17/50\n",
      "337/337 [==============================] - 251s 742ms/step - loss: 4.1742 - accuracy: 0.1242 - val_loss: 19.0317 - val_accuracy: 7.4184e-04\n",
      "Epoch 18/50\n",
      "337/337 [==============================] - 247s 733ms/step - loss: 3.9004 - accuracy: 0.1503 - val_loss: 19.6446 - val_accuracy: 7.4184e-04\n",
      "Epoch 19/50\n",
      "337/337 [==============================] - 264s 784ms/step - loss: 3.5838 - accuracy: 0.1893 - val_loss: 20.5833 - val_accuracy: 7.4184e-04\n",
      "Epoch 20/50\n",
      "337/337 [==============================] - 268s 794ms/step - loss: 3.2651 - accuracy: 0.2370 - val_loss: 21.1692 - val_accuracy: 0.0015\n",
      "Epoch 21/50\n",
      "337/337 [==============================] - 250s 742ms/step - loss: 2.9933 - accuracy: 0.2747 - val_loss: 22.4433 - val_accuracy: 7.4184e-04\n",
      "Epoch 22/50\n",
      "337/337 [==============================] - 234s 693ms/step - loss: 2.7819 - accuracy: 0.3169 - val_loss: 22.6747 - val_accuracy: 7.4184e-04\n",
      "Epoch 23/50\n",
      "337/337 [==============================] - 197s 584ms/step - loss: 2.5414 - accuracy: 0.3680 - val_loss: 22.0026 - val_accuracy: 0.0015\n",
      "Epoch 24/50\n",
      "337/337 [==============================] - 193s 574ms/step - loss: 2.2639 - accuracy: 0.4213 - val_loss: 24.4300 - val_accuracy: 0.0015\n",
      "Epoch 25/50\n",
      "337/337 [==============================] - 211s 627ms/step - loss: 2.0564 - accuracy: 0.4681 - val_loss: 23.7854 - val_accuracy: 0.0015\n",
      "Epoch 26/50\n",
      "337/337 [==============================] - 248s 736ms/step - loss: 1.9335 - accuracy: 0.4991 - val_loss: 25.3145 - val_accuracy: 7.4184e-04\n",
      "Epoch 27/50\n",
      "337/337 [==============================] - 197s 583ms/step - loss: 1.7253 - accuracy: 0.5347 - val_loss: 27.1476 - val_accuracy: 0.0015\n",
      "Epoch 28/50\n",
      "337/337 [==============================] - 195s 577ms/step - loss: 1.5139 - accuracy: 0.5900 - val_loss: 26.5985 - val_accuracy: 0.0015\n",
      "Epoch 29/50\n",
      "337/337 [==============================] - 192s 569ms/step - loss: 1.4305 - accuracy: 0.6104 - val_loss: 24.9482 - val_accuracy: 0.0015\n",
      "Epoch 30/50\n",
      "337/337 [==============================] - 191s 566ms/step - loss: 1.2467 - accuracy: 0.6586 - val_loss: 26.0896 - val_accuracy: 7.4184e-04\n",
      "Epoch 31/50\n",
      "337/337 [==============================] - 191s 567ms/step - loss: 1.1901 - accuracy: 0.6726 - val_loss: 26.3527 - val_accuracy: 0.0015\n",
      "Epoch 32/50\n",
      "337/337 [==============================] - 191s 567ms/step - loss: 1.1008 - accuracy: 0.7010 - val_loss: 27.1304 - val_accuracy: 0.0015\n",
      "Epoch 33/50\n",
      "337/337 [==============================] - 191s 565ms/step - loss: 0.9720 - accuracy: 0.7279 - val_loss: 26.9057 - val_accuracy: 0.0015\n",
      "Epoch 34/50\n",
      "337/337 [==============================] - 216s 642ms/step - loss: 0.8647 - accuracy: 0.7595 - val_loss: 25.8763 - val_accuracy: 0.0015\n",
      "Epoch 35/50\n",
      "337/337 [==============================] - 203s 601ms/step - loss: 0.8360 - accuracy: 0.7618 - val_loss: 28.3839 - val_accuracy: 0.0015\n",
      "Epoch 36/50\n",
      "337/337 [==============================] - 194s 575ms/step - loss: 0.7421 - accuracy: 0.7845 - val_loss: 26.8846 - val_accuracy: 0.0015\n",
      "Epoch 37/50\n",
      "337/337 [==============================] - 190s 565ms/step - loss: 0.6826 - accuracy: 0.8029 - val_loss: 26.6305 - val_accuracy: 0.0015\n",
      "Epoch 38/50\n",
      "337/337 [==============================] - 191s 567ms/step - loss: 0.6429 - accuracy: 0.8173 - val_loss: 26.3176 - val_accuracy: 0.0015\n",
      "Epoch 39/50\n",
      "337/337 [==============================] - 191s 566ms/step - loss: 0.5676 - accuracy: 0.8354 - val_loss: 26.0137 - val_accuracy: 0.0015\n",
      "Epoch 40/50\n",
      "337/337 [==============================] - 190s 565ms/step - loss: 0.5502 - accuracy: 0.8409 - val_loss: 27.8942 - val_accuracy: 0.0015\n",
      "Epoch 41/50\n",
      "337/337 [==============================] - 221s 655ms/step - loss: 0.5270 - accuracy: 0.8461 - val_loss: 27.0503 - val_accuracy: 0.0015\n",
      "Epoch 42/50\n",
      "337/337 [==============================] - 246s 730ms/step - loss: 0.4763 - accuracy: 0.8593 - val_loss: 28.3835 - val_accuracy: 0.0015\n",
      "Epoch 43/50\n",
      "337/337 [==============================] - 249s 739ms/step - loss: 0.4559 - accuracy: 0.8630 - val_loss: 27.9584 - val_accuracy: 0.0015\n",
      "Epoch 44/50\n",
      "337/337 [==============================] - 247s 734ms/step - loss: 0.4808 - accuracy: 0.8614 - val_loss: 28.7190 - val_accuracy: 0.0015\n",
      "Epoch 45/50\n",
      "337/337 [==============================] - 202s 598ms/step - loss: 0.4293 - accuracy: 0.8708 - val_loss: 27.2360 - val_accuracy: 0.0015\n",
      "Epoch 46/50\n",
      "337/337 [==============================] - 191s 567ms/step - loss: 0.3703 - accuracy: 0.8912 - val_loss: 27.7514 - val_accuracy: 0.0015\n",
      "Epoch 47/50\n",
      "337/337 [==============================] - 191s 566ms/step - loss: 0.3638 - accuracy: 0.8934 - val_loss: 27.8175 - val_accuracy: 0.0015\n",
      "Epoch 48/50\n",
      "337/337 [==============================] - 250s 744ms/step - loss: 0.3569 - accuracy: 0.8924 - val_loss: 29.4495 - val_accuracy: 0.0015\n",
      "Epoch 49/50\n",
      "337/337 [==============================] - 252s 746ms/step - loss: 0.3436 - accuracy: 0.8973 - val_loss: 29.0201 - val_accuracy: 0.0015\n",
      "Epoch 50/50\n",
      "337/337 [==============================] - 239s 710ms/step - loss: 0.3107 - accuracy: 0.9041 - val_loss: 29.1407 - val_accuracy: 0.0015\n"
     ]
    }
   ],
   "source": [
    "history = model.fit(train_generator, epochs=50, validation_data=val_generator)"
   ]
  },
  {
   "cell_type": "code",
   "execution_count": 12,
   "metadata": {},
   "outputs": [
    {
     "name": "stdout",
     "output_type": "stream",
     "text": [
      "85/85 [==============================] - 14s 166ms/step - loss: 29.1408 - accuracy: 0.0015\n"
     ]
    },
    {
     "data": {
      "text/plain": [
       "[29.140764236450195, 0.0014836795162409544]"
      ]
     },
     "execution_count": 12,
     "metadata": {},
     "output_type": "execute_result"
    }
   ],
   "source": [
    "model.evaluate(val_generator)"
   ]
  },
  {
   "cell_type": "code",
   "execution_count": 13,
   "metadata": {},
   "outputs": [
    {
     "name": "stdout",
     "output_type": "stream",
     "text": [
      "85/85 [==============================] - 15s 167ms/step\n"
     ]
    }
   ],
   "source": [
    "predictions = model.predict(val_generator)"
   ]
  },
  {
   "cell_type": "code",
   "execution_count": 14,
   "metadata": {},
   "outputs": [
    {
     "name": "stderr",
     "output_type": "stream",
     "text": [
      "c:\\Users\\ferdy\\development\\anaconda\\Lib\\site-packages\\keras\\src\\engine\\training.py:3103: UserWarning: You are saving your model as an HDF5 file via `model.save()`. This file format is considered legacy. We recommend using instead the native Keras format, e.g. `model.save('my_model.keras')`.\n",
      "  saving_api.save_model(\n"
     ]
    }
   ],
   "source": [
    "model.save('model/food_model.h5')\n",
    "model.save_weights('model/food_model_weights.h5')"
   ]
  },
  {
   "cell_type": "code",
   "execution_count": 15,
   "metadata": {},
   "outputs": [
    {
     "data": {
      "image/png": "[encoded data removed]",
      "text/plain": [
       "<Figure size 1200x600 with 2 Axes>"
      ]
     },
     "metadata": {},
     "output_type": "display_data"
    }
   ],
   "source": [
    "plt.figure(figsize=(12, 6))\n",
    "\n",
    "plt.subplot(1, 2, 1)\n",
    "plt.plot(history.history['accuracy'], label='Train Accuracy')\n",
    "plt.plot(history.history['val_accuracy'], label='Validation Accuracy')\n",
    "plt.title('Model Accuracy')\n",
    "plt.ylabel('Accuracy')\n",
    "plt.xlabel('Epoch')\n",
    "plt.legend()\n",
    "\n",
    "plt.subplot(1, 2, 2)\n",
    "plt.plot(history.history['loss'], label='Train Loss')\n",
    "plt.plot(history.history['val_loss'], label='Validation Loss')\n",
    "plt.title('Model Loss')\n",
    "plt.ylabel('Loss')\n",
    "plt.xlabel('Epoch')\n",
    "plt.legend()\n",
    "\n",
    "plt.tight_layout()\n",
    "plt.savefig('model/food_model_metrics_combined.png')\n",
    "plt.show()"
   ]
  }
 ],
 "metadata": {
  "kernelspec": {
   "display_name": "base",
   "language": "python",
   "name": "python3"
  },
  "language_info": {
   "codemirror_mode": {
    "name": "ipython",
    "version": 3
   },
   "file_extension": ".py",
   "mimetype": "text/x-python",
   "name": "python",
   "nbconvert_exporter": "python",
   "pygments_lexer": "ipython3",
   "version": "3.11.4"
  }
 },
 "nbformat": 4,
 "nbformat_minor": 2
}
